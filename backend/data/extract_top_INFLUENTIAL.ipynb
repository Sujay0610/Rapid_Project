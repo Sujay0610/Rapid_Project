{
 "cells": [
  {
   "cell_type": "code",
   "execution_count": null,
   "metadata": {
    "id": "ks4SAa47peXg"
   },
   "outputs": [],
   "source": [
    "from urllib.request import urlopen\n",
    "from bs4 import BeautifulSoup as soup"
   ]
  },
  {
   "cell_type": "code",
   "execution_count": null,
   "metadata": {
    "id": "Tw1vYdpqpozH"
   },
   "outputs": [],
   "source": [
    "import urllib.request\n",
    "\n",
    "user_agent = 'Mozilla/5.0 (Windows NT 10.0; Win64; x64) AppleWebKit/537.36 (KHTML, like Gecko) Chrome/98.0.4758.81 Safari/537.36 Edg/97.0.1072.69'\n",
    "\n",
    "url = \"https://cryptoweekly.co/100/\"\n",
    "headers={'User-Agent':user_agent,} \n",
    "\n",
    "request=urllib.request.Request(url,None,headers) #The assembled request\n",
    "response = urllib.request.urlopen(request)\n",
    "data = response.read() # The data u need"
   ]
  },
  {
   "cell_type": "code",
   "execution_count": null,
   "metadata": {
    "id": "iDr2BXLYAlNz"
   },
   "outputs": [],
   "source": [
    "pageSoup = soup(data, \"html.parser\")\n",
    "\n",
    "top=[]\n",
    "\n",
    "# Adds all Twitter handles to twitterHandles list\n",
    "profiles = pageSoup.findAll(\"div\", {\"class\":\"twitte crypto-text-color-blue\"})\n",
    "\n",
    "for link in pageSoup.find_all('a'):\n",
    "   top.append(link.contents)"
   ]
  },
  {
   "cell_type": "code",
   "execution_count": null,
   "metadata": {
    "id": "pJ9xE-DhKHcb"
   },
   "outputs": [],
   "source": [
    "listToStr = ' '.join([str(elem) for elem in top])"
   ]
  },
  {
   "cell_type": "code",
   "execution_count": null,
   "metadata": {
    "colab": {
     "base_uri": "https://localhost:8080/",
     "height": 174
    },
    "id": "kORUxZ_kLQ6E",
    "outputId": "23cef651-2d82-4599-c086-4776ea191896"
   },
   "outputs": [
    {
     "data": {
      "application/vnd.google.colaboratory.intrinsic+json": {
       "type": "string"
      },
      "text/plain": [
       "'[\\' \\', <img class=\"top_logo\" height=\"90px\" src=\"https://cryptoweekly.co/img/cryptoweekly-logo-stroke.png\"/>, \\' \\'] [\\'\\\\n\\'] [\\'Home\\'] [\\' Crypto Blog\\'] [\\' Crypto Feed\\'] [\\'Bitcoin 101\\'] [\\'Newsletter\\'] [\\'Crypto 100\\'] [\\' Crypto 250 \\'] [\\'Defi 50\\'] [\\'Female 50\\'] [\\'Youtube 20\\'] [\\' Top Picks\\'] [\\' Funding Deals\\'] [\\'Investor Zone\\'] [\\'\\\\n\\', <img class=\"advartise_image img-fluid\" src=\"https://cryptoweekly.co/img/advertisement/crypto_100/1.gif\"/>, \\'\\\\n\\'] [\\'@cz_binance\\'] [\\'@VitalikButerin\\'] [\\'@jihanwu\\'] [\\'@BarrySilbert\\'] [\\'@brian_armstrong\\'] [\\'@iohk_charles\\'] [\\'@michael_saylor\\'] [\\'@jack\\'] [\\'@RaoulGMI\\'] [\\'@Kris_HK\\'] [\\'@SBF_Alameda\\'] [\\'@Melt_Dem\\'] [\\'@novogratz\\\\r\\\\n\\'] [\\'@gavofyork\\'] [\\'\\\\n\\', <img class=\"advartise_image img-fluid\" src=\"https://cryptoweekly.co/img/advertisement/crypto_100/2.gif\"/>, \\'\\\\n\\'] [\\'@adam3us\\'] [\\'@sergeynazarov\\'] [\\'@CaitlinLong_\\'] [\\'@dannyryan\\'] [\\'@dan_schulman\\'] [\\'@CathieDWood\\'] [\\'@chamath\\'] [\\'@tyler\\'] [\\'@haydenzadams\\'] [\\'@ethereumJoseph\\'] [\\'@rleshner\\'] [\\'@jerallaire\\'] [\\'@cameron\\'] [\\'@JedMcCaleb\\'] [\\'\\\\n\\', <img class=\"advartise_image img-fluid\" src=\"https://cryptoweekly.co/img/advertisement/crypto_100/3.gif\"/>, \\'\\\\n\\'] [\\'@StaniKulechov\\'] [\\'@AndreCronjeTech\\'] [\\'@pmarca\\'] [\\'@twobitidiot\\'] [\\'@OneMorePeter\\'] [\\'@gavinandresen\\'] [\\'@kaiynne\\'] [\\'@starkness\\'] [\\'@spair\\'] [\\'@sammcingvale\\'] [\\'@bobbyong\\'] [\\'@polychain\\'] [\\'@jespow\\'] [\\'@vansa_c\\'] [\\'\\\\n\\', <img class=\"advartise_image img-fluid\" src=\"https://cryptoweekly.co/img/advertisement/crypto_100/4.gif\"/>, \\'\\\\n\\'] [\\'@RuneKek\\'] [\\'@bengoertzel\\'] [\\'@BlockFiZac\\'] [\\'@dan_pantera\\'] [\\'@joyce\\'] [\\'@jlvdv\\'] [\\'@coinmarketcap\\'] [\\'@evankuo\\'] [\\'@ptj_official\\'] [\\'@breitwoman\\'] [\\'@nejc_kodric\\'] [\\'@ssrinawakoon\\'] [\\'@aantonop\\'] [\\'@naval\\'] [\\'\\\\n\\', <img class=\"advartise_image img-fluid\" src=\"https://cryptoweekly.co/img/advertisement/crypto_100/5.gif\"/>, \\'\\\\n\\'] [\\'@jinglanW\\'] [\\'@brendanblumer\\'] [\\'@ErikVoorhees\\'] [\\'@\\'] [\\'@brianbrooksocc\\'] [\\'@galiabenartzi\\'] [\\'@SatoshiLite\\'] [\\'@cdixon\\'] [\\'@apompliano\\'] [\\'@NickSzabo4\\'] [\\'@arrington\\'] [\\'@lopp\\'] [\\'@VinnyLingham\\'] [\\'@CharlieShrem\\'] [\\'\\\\n\\', <img class=\"advartise_image img-fluid\" src=\"https://cryptoweekly.co/img/advertisement/crypto_100/6.gif\"/>, \\'\\\\n\\'] [\\'@timdraper\\'] [\\'@laurashin\\'] [\\'@danheld\\'] [\\'@AriDavidPaul\\'] [\\'@fluffypony\\'] [\\'@sallyeaves\\'] [\\'@cryptomanran\\'] [\\'@fehrsam\\'] [\\'@el33th4xor\\'] [\\'@bobbyclee\\'] [\\'@iam_preethi\\'] [\\'@pwuille\\'] [\\'@ljxie\\'] [\\'@yuzokano\\'] [\\'\\\\n\\', <img class=\"advartise_image img-fluid\" src=\"https://cryptoweekly.co/img/advertisement/crypto_100/7.gif\"/>, \\'\\\\n\\'] [\\'@AriannaSimpson\\'] [\\'@AmberBaldet\\'] [\\'@muneeb\\'] [\\'@domschiener\\'] [\\'@cryptocoley\\'] [\\'@katie_haun\\'] [\\'@jbrukh\\'] [\\'@mikebelshe\\'] [\\'@matthewroszak\\'] [\\'@bgarlinghouse\\'] [\\'@\\'] [\\'@rogerkver\\'] [\\'@pbartstephens\\'] [\\'@joshfraser\\'] [\\'@ericlarch\\'] [\\'@valeryvavilov\\'] [\\'\\\\n\\', <img class=\"advartise_image img-fluid\" src=\"https://cryptoweekly.co/img/advertisement/crypto_100/8.gif\"/>, \\'\\\\n\\'] [\\'Bitcoin 101\\'] [\\'Newsletter\\'] [\\' Crypto Feed\\'] [\\'Crypto 100\\'] [\\' Crypto 250 \\'] [\\'Defi 50\\'] [\\'Female 50\\'] [\\'Youtube 20\\'] [\\'Investor Zone\\'] [\\' Funding Deals\\'] [\\' Top Picks\\'] [\\'Domains\\'] [<i aria-hidden=\"true\" class=\"fa fa-facebook-official\"></i>] [<i aria-hidden=\"true\" class=\"fa fa-twitter\"></i>] [<i aria-hidden=\"true\" class=\"fa fa-telegram\"></i>] [<i class=\"fa fa-envelope\"></i>] [\\'Bitcoin 101\\'] [\\'Newsletter\\'] [\\' Crypto Feed\\'] [\\'Crypto 100\\'] [\\' Crypto 250 \\'] [\\'Defi 50\\'] [\\'Female 50\\'] [\\'Youtube 20\\'] [\\'Investor Zone\\'] [\\' Funding Deals\\'] [\\' Top Picks\\'] [\\'Domains\\'] [<i aria-hidden=\"true\" class=\"fa fa-facebook-official\"></i>] [<i aria-hidden=\"true\" class=\"fa fa-twitter\"></i>] [<i aria-hidden=\"true\" class=\"fa fa-telegram\"></i>] [<i class=\"fa fa-envelope\"></i>]'"
      ]
     },
     "execution_count": 5,
     "metadata": {},
     "output_type": "execute_result"
    }
   ],
   "source": [
    "listToStr"
   ]
  },
  {
   "cell_type": "code",
   "execution_count": null,
   "metadata": {
    "colab": {
     "base_uri": "https://localhost:8080/"
    },
    "id": "eviYkgLwSTJK",
    "outputId": "91065a0b-bedb-4116-e1fd-3fa625807e86"
   },
   "outputs": [
    {
     "name": "stdout",
     "output_type": "stream",
     "text": [
      "Collecting snscrape\n",
      "  Downloading snscrape-0.3.4-py3-none-any.whl (35 kB)\n",
      "Requirement already satisfied: lxml in /usr/local/lib/python3.7/dist-packages (from snscrape) (4.2.6)\n",
      "Requirement already satisfied: requests[socks] in /usr/local/lib/python3.7/dist-packages (from snscrape) (2.23.0)\n",
      "Requirement already satisfied: beautifulsoup4 in /usr/local/lib/python3.7/dist-packages (from snscrape) (4.6.3)\n",
      "Requirement already satisfied: urllib3!=1.25.0,!=1.25.1,<1.26,>=1.21.1 in /usr/local/lib/python3.7/dist-packages (from requests[socks]->snscrape) (1.24.3)\n",
      "Requirement already satisfied: certifi>=2017.4.17 in /usr/local/lib/python3.7/dist-packages (from requests[socks]->snscrape) (2021.10.8)\n",
      "Requirement already satisfied: idna<3,>=2.5 in /usr/local/lib/python3.7/dist-packages (from requests[socks]->snscrape) (2.10)\n",
      "Requirement already satisfied: chardet<4,>=3.0.2 in /usr/local/lib/python3.7/dist-packages (from requests[socks]->snscrape) (3.0.4)\n",
      "Requirement already satisfied: PySocks!=1.5.7,>=1.5.6 in /usr/local/lib/python3.7/dist-packages (from requests[socks]->snscrape) (1.7.1)\n",
      "Installing collected packages: snscrape\n",
      "Successfully installed snscrape-0.3.4\n"
     ]
    }
   ],
   "source": [
    "!pip3 install snscrape"
   ]
  },
  {
   "cell_type": "code",
   "execution_count": null,
   "metadata": {
    "id": "o0vdEqWj_po4"
   },
   "outputs": [],
   "source": [
    "import pandas as pd\n",
    "import numpy as np\n",
    "import re\n",
    "#import snscrape\n",
    "#import snscrape.modules.twitter as sntwitter\n",
    "import os\n",
    "import time"
   ]
  },
  {
   "cell_type": "code",
   "execution_count": null,
   "metadata": {
    "id": "aA-3HfA5APGj"
   },
   "outputs": [],
   "source": [
    "top_100_influ =re.findall(\"@\\w\\w*\",listToStr)"
   ]
  },
  {
   "cell_type": "code",
   "execution_count": null,
   "metadata": {
    "id": "GAMeFB-g2FPB"
   },
   "outputs": [],
   "source": [
    "top_100_influ_without_atsin=[ x.replace('@', '') for x in top_100_influ]"
   ]
  },
  {
   "cell_type": "code",
   "execution_count": null,
   "metadata": {
    "id": "f4ip_GAWJg7U"
   },
   "outputs": [],
   "source": [
    "top_4_test= top_100_influ_without_atsin[:4]"
   ]
  },
  {
   "cell_type": "code",
   "execution_count": null,
   "metadata": {
    "id": "apdg0PbDqy2A"
   },
   "outputs": [],
   "source": [
    "top_4_test_with_at_sin =top_4_test[:4]"
   ]
  },
  {
   "cell_type": "code",
   "execution_count": null,
   "metadata": {
    "colab": {
     "base_uri": "https://localhost:8080/"
    },
    "id": "hrVEFar5q5Gf",
    "outputId": "e871e9e6-6ad4-4ffc-b841-8d42c8c8d2e7"
   },
   "outputs": [
    {
     "data": {
      "text/plain": [
       "['cz_binance', 'VitalikButerin', 'jihanwu', 'BarrySilbert']"
      ]
     },
     "execution_count": 12,
     "metadata": {},
     "output_type": "execute_result"
    }
   ],
   "source": [
    "top_4_test_with_at_sin"
   ]
  },
  {
   "cell_type": "code",
   "execution_count": null,
   "metadata": {
    "id": "s20P242hM9bg"
   },
   "outputs": [],
   "source": [
    "df_top_100_influ_without_atsin = pd.DataFrame (top_100_influ_without_atsin, columns = ['influent'])\n",
    "df_top_100_influ_without_atsin.to_csv('100-influ.csv', encoding='utf-8')"
   ]
  },
  {
   "cell_type": "markdown",
   "metadata": {
    "id": "n6lwWjzpe4qp"
   },
   "source": [
    "##Extract by snsscraper##"
   ]
  },
  {
   "cell_type": "code",
   "execution_count": null,
   "metadata": {
    "colab": {
     "base_uri": "https://localhost:8080/"
    },
    "id": "DOrMmIjwMK_3",
    "outputId": "797ed179-74c4-466e-e875-eaab353ba538"
   },
   "outputs": [
    {
     "name": "stderr",
     "output_type": "stream",
     "text": [
      "Error retrieving https://api.twitter.com/2/search/adaptive.json?include_profile_interstitial_type=1&include_blocking=1&include_blocked_by=1&include_followed_by=1&include_want_retweets=1&include_mute_edge=1&include_can_dm=1&include_can_media_tag=1&skip_status=1&cards_platform=Web-12&include_cards=1&include_composer_source=true&include_ext_alt_text=true&include_reply_count=1&tweet_mode=extended&include_entities=true&include_user_entities=true&include_ext_media_color=true&include_ext_media_availability=true&send_error_codes=true&simple_quoted_tweets=true&q=from%3Adanheld+since%3A2022-01-01&tweet_search_mode=live&count=100&query_source=spelling_expansion_revert_click&cursor=scroll%3AthGAVUV0VFVBaMwLiZx9mmmikWiICz5a_V97IpEnEVoN15FYCJehgHREVGQVVMVDUBFRoVAAA%3D&pc=1&spelling_corrections=1&ext=mediaStats%252CcameraMoment: ConnectionError(ProtocolError('Connection aborted.', ConnectionResetError(104, 'Connection reset by peer'))), retrying\n"
     ]
    }
   ],
   "source": [
    "tweets_list1=[]\n",
    "for person in top_100_influ_without_atsin:\n",
    "  time.sleep(20)\n",
    "  for i,tweet_sns in enumerate(sntwitter.TwitterSearchScraper('from:{}'.format(person)+' since:2022-01-01').get_items()):\n",
    "    tweets_list1.append([tweet_sns.date,tweet_sns.id,tweet_sns.username,tweet_sncontents.])"
   ]
  },
  {
   "cell_type": "code",
   "execution_count": null,
   "metadata": {
    "colab": {
     "base_uri": "https://localhost:8080/",
     "height": 424
    },
    "id": "v-r9CxqNeG4g",
    "outputId": "63f3decb-f12c-4425-bb1b-3aaeb308b328"
   },
   "outputs": [
    {
     "data": {
      "text/html": [
       "\n",
       "  <div id=\"df-02482f60-5abe-460f-8047-4f1f569bc476\">\n",
       "    <div class=\"colab-df-container\">\n",
       "      <div>\n",
       "<style scoped>\n",
       "    .dataframe tbody tr th:only-of-type {\n",
       "        vertical-align: middle;\n",
       "    }\n",
       "\n",
       "    .dataframe tbody tr th {\n",
       "        vertical-align: top;\n",
       "    }\n",
       "\n",
       "    .dataframe thead th {\n",
       "        text-align: right;\n",
       "    }\n",
       "</style>\n",
       "<table border=\"1\" class=\"dataframe\">\n",
       "  <thead>\n",
       "    <tr style=\"text-align: right;\">\n",
       "      <th></th>\n",
       "      <th>Datetime</th>\n",
       "      <th>Tweet Id</th>\n",
       "      <th>Username</th>\n",
       "      <th>Text</th>\n",
       "    </tr>\n",
       "  </thead>\n",
       "  <tbody>\n",
       "    <tr>\n",
       "      <th>0</th>\n",
       "      <td>2022-02-09 16:02:33+00:00</td>\n",
       "      <td>1491442405895475202</td>\n",
       "      <td>cz_binance</td>\n",
       "      <td>@EntMagazineME @binance @ReefDeFi @WempToken @...</td>\n",
       "    </tr>\n",
       "    <tr>\n",
       "      <th>1</th>\n",
       "      <td>2022-02-09 13:06:53+00:00</td>\n",
       "      <td>1491398198103273476</td>\n",
       "      <td>cz_binance</td>\n",
       "      <td>@Tori_Mohn No tax if it is recognized as a cur...</td>\n",
       "    </tr>\n",
       "    <tr>\n",
       "      <th>2</th>\n",
       "      <td>2022-02-09 12:52:29+00:00</td>\n",
       "      <td>1491394574136545284</td>\n",
       "      <td>cz_binance</td>\n",
       "      <td>Old tweet. The half joke might be spot on, hah...</td>\n",
       "    </tr>\n",
       "    <tr>\n",
       "      <th>3</th>\n",
       "      <td>2022-02-09 08:13:12+00:00</td>\n",
       "      <td>1491324288791871489</td>\n",
       "      <td>cz_binance</td>\n",
       "      <td>@y_bajoga It's still very good on the history ...</td>\n",
       "    </tr>\n",
       "    <tr>\n",
       "      <th>4</th>\n",
       "      <td>2022-02-09 08:12:40+00:00</td>\n",
       "      <td>1491324156113473536</td>\n",
       "      <td>cz_binance</td>\n",
       "      <td>@Ajoobz Will post more books that I like.</td>\n",
       "    </tr>\n",
       "    <tr>\n",
       "      <th>...</th>\n",
       "      <td>...</td>\n",
       "      <td>...</td>\n",
       "      <td>...</td>\n",
       "      <td>...</td>\n",
       "    </tr>\n",
       "    <tr>\n",
       "      <th>13779</th>\n",
       "      <td>2022-01-04 13:32:44+00:00</td>\n",
       "      <td>1478358740395085825</td>\n",
       "      <td>EricLarch</td>\n",
       "      <td>@CryptoChaine C'est le cas, diffusé en deuxièm...</td>\n",
       "    </tr>\n",
       "    <tr>\n",
       "      <th>13780</th>\n",
       "      <td>2022-01-04 12:10:22+00:00</td>\n",
       "      <td>1478338010521427968</td>\n",
       "      <td>EricLarch</td>\n",
       "      <td>\"Qui veut être mon associé ?\" saison 2, c'est ...</td>\n",
       "    </tr>\n",
       "    <tr>\n",
       "      <th>13781</th>\n",
       "      <td>2022-01-15 09:22:21+00:00</td>\n",
       "      <td>1482281995078352897</td>\n",
       "      <td>valeryvavilov</td>\n",
       "      <td>Pleased to welcome Chandra Katta to the growin...</td>\n",
       "    </tr>\n",
       "    <tr>\n",
       "      <th>13782</th>\n",
       "      <td>2022-01-13 14:42:53+00:00</td>\n",
       "      <td>1481637883090206720</td>\n",
       "      <td>valeryvavilov</td>\n",
       "      <td>Longevity science is a growing field of resear...</td>\n",
       "    </tr>\n",
       "    <tr>\n",
       "      <th>13783</th>\n",
       "      <td>2022-01-07 23:29:50+00:00</td>\n",
       "      <td>1479596165331099648</td>\n",
       "      <td>valeryvavilov</td>\n",
       "      <td>A16z Publishes Web 3 Policy Proposal for World...</td>\n",
       "    </tr>\n",
       "  </tbody>\n",
       "</table>\n",
       "<p>13784 rows × 4 columns</p>\n",
       "</div>\n",
       "      <button class=\"colab-df-convert\" onclick=\"convertToInteractive('df-02482f60-5abe-460f-8047-4f1f569bc476')\"\n",
       "              title=\"Convert this dataframe to an interactive table.\"\n",
       "              style=\"display:none;\">\n",
       "        \n",
       "  <svg xmlns=\"http://www.w3.org/2000/svg\" height=\"24px\"viewBox=\"0 0 24 24\"\n",
       "       width=\"24px\">\n",
       "    <path d=\"M0 0h24v24H0V0z\" fill=\"none\"/>\n",
       "    <path d=\"M18.56 5.44l.94 2.06.94-2.06 2.06-.94-2.06-.94-.94-2.06-.94 2.06-2.06.94zm-11 1L8.5 8.5l.94-2.06 2.06-.94-2.06-.94L8.5 2.5l-.94 2.06-2.06.94zm10 10l.94 2.06.94-2.06 2.06-.94-2.06-.94-.94-2.06-.94 2.06-2.06.94z\"/><path d=\"M17.41 7.96l-1.37-1.37c-.4-.4-.92-.59-1.43-.59-.52 0-1.04.2-1.43.59L10.3 9.45l-7.72 7.72c-.78.78-.78 2.05 0 2.83L4 21.41c.39.39.9.59 1.41.59.51 0 1.02-.2 1.41-.59l7.78-7.78 2.81-2.81c.8-.78.8-2.07 0-2.86zM5.41 20L4 18.59l7.72-7.72 1.47 1.35L5.41 20z\"/>\n",
       "  </svg>\n",
       "      </button>\n",
       "      \n",
       "  <style>\n",
       "    .colab-df-container {\n",
       "      display:flex;\n",
       "      flex-wrap:wrap;\n",
       "      gap: 12px;\n",
       "    }\n",
       "\n",
       "    .colab-df-convert {\n",
       "      background-color: #E8F0FE;\n",
       "      border: none;\n",
       "      border-radius: 50%;\n",
       "      cursor: pointer;\n",
       "      display: none;\n",
       "      fill: #1967D2;\n",
       "      height: 32px;\n",
       "      padding: 0 0 0 0;\n",
       "      width: 32px;\n",
       "    }\n",
       "\n",
       "    .colab-df-convert:hover {\n",
       "      background-color: #E2EBFA;\n",
       "      box-shadow: 0px 1px 2px rgba(60, 64, 67, 0.3), 0px 1px 3px 1px rgba(60, 64, 67, 0.15);\n",
       "      fill: #174EA6;\n",
       "    }\n",
       "\n",
       "    [theme=dark] .colab-df-convert {\n",
       "      background-color: #3B4455;\n",
       "      fill: #D2E3FC;\n",
       "    }\n",
       "\n",
       "    [theme=dark] .colab-df-convert:hover {\n",
       "      background-color: #434B5C;\n",
       "      box-shadow: 0px 1px 3px 1px rgba(0, 0, 0, 0.15);\n",
       "      filter: drop-shadow(0px 1px 2px rgba(0, 0, 0, 0.3));\n",
       "      fill: #FFFFFF;\n",
       "    }\n",
       "  </style>\n",
       "\n",
       "      <script>\n",
       "        const buttonEl =\n",
       "          document.querySelector('#df-02482f60-5abe-460f-8047-4f1f569bc476 button.colab-df-convert');\n",
       "        buttonEl.style.display =\n",
       "          google.colab.kernel.accessAllowed ? 'block' : 'none';\n",
       "\n",
       "        async function convertToInteractive(key) {\n",
       "          const element = document.querySelector('#df-02482f60-5abe-460f-8047-4f1f569bc476');\n",
       "          const dataTable =\n",
       "            await google.colab.kernel.invokeFunction('convertToInteractive',\n",
       "                                                     [key], {});\n",
       "          if (!dataTable) return;\n",
       "\n",
       "          const docLinkHtml = 'Like what you see? Visit the ' +\n",
       "            '<a target=\"_blank\" href=https://colab.research.google.com/notebooks/data_table.ipynb>data table notebook</a>'\n",
       "            + ' to learn more about interactive tables.';\n",
       "          element.innerHTML = '';\n",
       "          dataTable['output_type'] = 'display_data';\n",
       "          await google.colab.output.renderOutput(dataTable, element);\n",
       "          const docLink = document.createElement('div');\n",
       "          docLink.innerHTML = docLinkHtml;\n",
       "          element.appendChild(docLink);\n",
       "        }\n",
       "      </script>\n",
       "    </div>\n",
       "  </div>\n",
       "  "
      ],
      "text/plain": [
       "                       Datetime  ...                                               Text\n",
       "0     2022-02-09 16:02:33+00:00  ...  @EntMagazineME @binance @ReefDeFi @WempToken @...\n",
       "1     2022-02-09 13:06:53+00:00  ...  @Tori_Mohn No tax if it is recognized as a cur...\n",
       "2     2022-02-09 12:52:29+00:00  ...  Old tweet. The half joke might be spot on, hah...\n",
       "3     2022-02-09 08:13:12+00:00  ...  @y_bajoga It's still very good on the history ...\n",
       "4     2022-02-09 08:12:40+00:00  ...          @Ajoobz Will post more books that I like.\n",
       "...                         ...  ...                                                ...\n",
       "13779 2022-01-04 13:32:44+00:00  ...  @CryptoChaine C'est le cas, diffusé en deuxièm...\n",
       "13780 2022-01-04 12:10:22+00:00  ...  \"Qui veut être mon associé ?\" saison 2, c'est ...\n",
       "13781 2022-01-15 09:22:21+00:00  ...  Pleased to welcome Chandra Katta to the growin...\n",
       "13782 2022-01-13 14:42:53+00:00  ...  Longevity science is a growing field of resear...\n",
       "13783 2022-01-07 23:29:50+00:00  ...  A16z Publishes Web 3 Policy Proposal for World...\n",
       "\n",
       "[13784 rows x 4 columns]"
      ]
     },
     "execution_count": 113,
     "metadata": {},
     "output_type": "execute_result"
    }
   ],
   "source": [
    "# Creating a dataframe from the tweets list above\n",
    "tweets_df1 = pd.DataFrame(tweets_list1, columns=['Datetime', 'Tweet Id','Username','Text'])\n",
    "\n",
    "# Display first 5 entries from dataframe\n",
    "tweets_df1"
   ]
  },
  {
   "cell_type": "code",
   "execution_count": null,
   "metadata": {
    "id": "30gizBKuGBjp"
   },
   "outputs": [],
   "source": [
    "import csv"
   ]
  },
  {
   "cell_type": "code",
   "execution_count": null,
   "metadata": {
    "id": "Beu9jE1mGHJq"
   },
   "outputs": [],
   "source": [
    "tweets_df1.to_csv('tweet-1400-11-20-2.csv', encoding='utf-8')"
   ]
  },
  {
   "cell_type": "markdown",
   "metadata": {
    "id": "rFFoGv9Reu2n"
   },
   "source": [
    "##EXtrct by Tweetpy##"
   ]
  },
  {
   "cell_type": "code",
   "execution_count": null,
   "metadata": {
    "colab": {
     "base_uri": "https://localhost:8080/"
    },
    "id": "Zndjbc3bf9Ng",
    "outputId": "5acb4748-71d3-499d-fb12-4bdea152893b"
   },
   "outputs": [
    {
     "name": "stdout",
     "output_type": "stream",
     "text": [
      "Looking in indexes: https://pypi.org/simple, https://us-python.pkg.dev/colab-wheels/public/simple/\n",
      "Collecting credentials\n",
      "  Downloading credentials-1.1-py2.py3-none-any.whl (4.2 kB)\n",
      "Installing collected packages: credentials\n",
      "Successfully installed credentials-1.1\n"
     ]
    }
   ],
   "source": [
    "!pip install credentials"
   ]
  },
  {
   "cell_type": "code",
   "execution_count": null,
   "metadata": {
    "colab": {
     "base_uri": "https://localhost:8080/"
    },
    "id": "PmLfKxMBvPY2",
    "outputId": "464565cd-4590-4171-ce7f-3970eeebb284"
   },
   "outputs": [
    {
     "name": "stdout",
     "output_type": "stream",
     "text": [
      "Looking in indexes: https://pypi.org/simple, https://us-python.pkg.dev/colab-wheels/public/simple/\n",
      "Collecting preprocessor\n",
      "  Downloading preprocessor-1.1.3.tar.gz (4.2 kB)\n",
      "Building wheels for collected packages: preprocessor\n",
      "  Building wheel for preprocessor (setup.py) ... \u001b[?25l\u001b[?25hdone\n",
      "  Created wheel for preprocessor: filename=preprocessor-1.1.3-py3-none-any.whl size=4477 sha256=79529cb16246eb6dec497993bfb6f5b14820f7a31b5a143152679dcd858e9e94\n",
      "  Stored in directory: /root/.cache/pip/wheels/0e/b7/36/aa37256db62b4bfd35a6f1b5536e9ba843f257b79dcbf3d5f1\n",
      "Successfully built preprocessor\n",
      "Installing collected packages: preprocessor\n",
      "Successfully installed preprocessor-1.1.3\n"
     ]
    }
   ],
   "source": [
    "!pip install preprocessor"
   ]
  },
  {
   "cell_type": "code",
   "execution_count": null,
   "metadata": {
    "id": "CmKSnZDgezmj"
   },
   "outputs": [],
   "source": [
    "from credentials import *\n",
    "import tweepy\n",
    "import pandas as pd\n",
    "import pandas as pd\n",
    "import csv\n",
    "import re \n",
    "import string\n",
    "import os\n",
    "import time"
   ]
  },
  {
   "cell_type": "code",
   "execution_count": null,
   "metadata": {
    "id": "195KFIuokTKp"
   },
   "outputs": [],
   "source": [
    "consumer_key = \"your-consumer_key\"\n",
    "consumer_secret = \"your-consumer_secret\"\n",
    "access_key= \"your-access_key\"\n",
    "access_secret = \"your-access_secret\""
   ]
  },
  {
   "cell_type": "code",
   "execution_count": null,
   "metadata": {
    "id": "-kpIDGuDxDld"
   },
   "outputs": [],
   "source": [
    "auth = tweepy.OAuthHandler(consumer_key, consumer_secret)\n",
    "auth.set_access_token(access_key, access_secret)"
   ]
  },
  {
   "cell_type": "code",
   "execution_count": null,
   "metadata": {
    "id": "_H5T_q4ik8OX"
   },
   "outputs": [],
   "source": [
    "api = tweepy.API(auth,wait_on_rate_limit=True)"
   ]
  },
  {
   "cell_type": "code",
   "execution_count": null,
   "metadata": {
    "id": "2zIB24EQYqav"
   },
   "outputs": [],
   "source": [
    "for person in top_100_influ_without_atsin:\n",
    "    time.sleep(20)\n",
    "    tweets = []\n",
    "    for tweet in tweepy.Cursor(api.user_timeline, screen_name=person, tweet_mode='extended').items():\n",
    "        tweets.append([tweet.created_at, tweet.id, tweet.full_text])\n",
    "    tweets_list += tweets\n",
    "    \n",
    "df_tweets = pd.DataFrame(tweets_list, columns=['created_at', 'id', 'text'])\n",
    "df_tweets.to_excel('tweets.xlsx', index=False)"
   ]
  }
 ],
 "metadata": {
  "colab": {
   "provenance": []
  },
  "kernelspec": {
   "display_name": "Python 3 (ipykernel)",
   "language": "python",
   "name": "python3"
  },
  "language_info": {
   "codemirror_mode": {
    "name": "ipython",
    "version": 3
   },
   "file_extension": ".py",
   "mimetype": "text/x-python",
   "name": "python",
   "nbconvert_exporter": "python",
   "pygments_lexer": "ipython3",
   "version": "3.8.8"
  }
 },
 "nbformat": 4,
 "nbformat_minor": 1
}
